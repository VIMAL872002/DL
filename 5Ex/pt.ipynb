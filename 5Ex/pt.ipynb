{
 "cells": [
  {
   "cell_type": "code",
   "execution_count": 1,
   "metadata": {},
   "outputs": [
    {
     "name": "stderr",
     "output_type": "stream",
     "text": [
      "2023-03-09 12:06:33.913784: I tensorflow/core/platform/cpu_feature_guard.cc:193] This TensorFlow binary is optimized with oneAPI Deep Neural Network Library (oneDNN) to use the following CPU instructions in performance-critical operations:  AVX2 FMA\n",
      "To enable them in other operations, rebuild TensorFlow with the appropriate compiler flags.\n",
      "2023-03-09 12:06:41.950274: W tensorflow/compiler/xla/stream_executor/platform/default/dso_loader.cc:64] Could not load dynamic library 'libnvinfer.so.7'; dlerror: libnvinfer.so.7: cannot open shared object file: No such file or directory; LD_LIBRARY_PATH: /usr/lib/cuda/include:/usr/lib/cuda/lib64:\n",
      "2023-03-09 12:06:41.950929: W tensorflow/compiler/xla/stream_executor/platform/default/dso_loader.cc:64] Could not load dynamic library 'libnvinfer_plugin.so.7'; dlerror: libnvinfer_plugin.so.7: cannot open shared object file: No such file or directory; LD_LIBRARY_PATH: /usr/lib/cuda/include:/usr/lib/cuda/lib64:\n",
      "2023-03-09 12:06:41.950966: W tensorflow/compiler/tf2tensorrt/utils/py_utils.cc:38] TF-TRT Warning: Cannot dlopen some TensorRT libraries. If you would like to use Nvidia GPU with TensorRT, please make sure the missing libraries mentioned above are installed properly.\n"
     ]
    }
   ],
   "source": [
    "import torch\n",
    "import torch.nn as nn\n",
    "import torch.optim as optim\n",
    "from torch.utils.data import DataLoader, TensorDataset\n",
    "import matplotlib.pyplot as plt\n",
    "import numpy as np\n",
    "from torch.utils.tensorboard import SummaryWriter\n",
    "\n",
    "writer = SummaryWriter(log_dir='pt_logs')\n",
    "# Load the dataset and perform exploratory data analysis\n",
    "from sklearn.datasets import load_digits\n",
    "from sklearn.model_selection import train_test_split\n",
    "digits = load_digits()\n"
   ]
  },
  {
   "cell_type": "code",
   "execution_count": 2,
   "metadata": {},
   "outputs": [
    {
     "data": {
      "image/png": "[encoded data removed]",
      "text/plain": [
       "<Figure size 640x480 with 1 Axes>"
      ]
     },
     "metadata": {},
     "output_type": "display_data"
    },
    {
     "data": {
      "image/png": "[encoded data removed]",
      "text/plain": [
       "<Figure size 640x480 with 1 Axes>"
      ]
     },
     "metadata": {},
     "output_type": "display_data"
    }
   ],
   "source": [
    "# Plot some examples of the images\n",
    "for i in range(2):\n",
    "    plt.imshow(digits.images[i], cmap='gray')\n",
    "    plt.title(f\"Label: {digits.target[i]}\")\n",
    "    plt.show()\n"
   ]
  },
  {
   "cell_type": "code",
   "execution_count": 3,
   "metadata": {},
   "outputs": [],
   "source": [
    "# Prepare the data for training\n",
    "X = digits.images.reshape(-1, 64)\n",
    "y = digits.target\n",
    "X_train, X_test, y_train, y_test = train_test_split(X, y, test_size=0.3, random_state=42)\n",
    "train_dataset = TensorDataset(torch.tensor(X_train, dtype=torch.float32), torch.tensor(y_train, dtype=torch.long))\n",
    "test_dataset = TensorDataset(torch.tensor(X_test, dtype=torch.float32), torch.tensor(y_test, dtype=torch.long))\n",
    "train_loader = DataLoader(train_dataset, batch_size=64, shuffle=True)\n",
    "test_loader = DataLoader(test_dataset, batch_size=64, shuffle=False)"
   ]
  },
  {
   "cell_type": "code",
   "execution_count": 4,
   "metadata": {},
   "outputs": [],
   "source": [
    "# Define the model\n",
    "class MLP(nn.Module):\n",
    "    def __init__(self):\n",
    "        super().__init__()\n",
    "        self.fc1 = nn.Linear(64, 128)\n",
    "        self.fc2 = nn.Linear(128, 10)\n",
    "        self.relu = nn.ReLU()\n",
    "        self.softmax = nn.LogSoftmax(dim=1)\n",
    "        \n",
    "    def forward(self, x):\n",
    "        x = self.fc1(x)\n",
    "        x = self.relu(x)\n",
    "        x = self.fc2(x)\n",
    "        x = self.softmax(x)\n",
    "        return x"
   ]
  },
  {
   "cell_type": "code",
   "execution_count": 5,
   "metadata": {},
   "outputs": [
    {
     "name": "stdout",
     "output_type": "stream",
     "text": [
      "[1] Loss: 1.592380028963089\n",
      "[2] Loss: 0.649315869808197\n",
      "[3] Loss: 0.4347398176789284\n",
      "[4] Loss: 0.3392764687538147\n",
      "[5] Loss: 0.27617189288139343\n",
      "[6] Loss: 0.24712153077125548\n",
      "[7] Loss: 0.21180179119110107\n",
      "[8] Loss: 0.1875649057328701\n",
      "[9] Loss: 0.17543332614004611\n",
      "[10] Loss: 0.16138746738433837\n",
      "[11] Loss: 0.14857381153851748\n",
      "[12] Loss: 0.13803353644907473\n",
      "[13] Loss: 0.12862411849200725\n",
      "[14] Loss: 0.12184445336461067\n",
      "[15] Loss: 0.11343474499881268\n",
      "[16] Loss: 0.1065724479034543\n",
      "[17] Loss: 0.10246683210134507\n",
      "[18] Loss: 0.09786297082901001\n",
      "[19] Loss: 0.09356781095266342\n",
      "[20] Loss: 0.08908316884189844\n",
      "[21] Loss: 0.08373698685318232\n",
      "[22] Loss: 0.0817900188267231\n",
      "[23] Loss: 0.07924287654459476\n",
      "[24] Loss: 0.07657895740121604\n",
      "[25] Loss: 0.07248604223132134\n",
      "[26] Loss: 0.07049430534243584\n",
      "[27] Loss: 0.06765387952327728\n",
      "[28] Loss: 0.06475990097969771\n",
      "[29] Loss: 0.06229630531743169\n",
      "[30] Loss: 0.06184431537985802\n",
      "[31] Loss: 0.05866406494751573\n",
      "[32] Loss: 0.05598699143156409\n",
      "[33] Loss: 0.055314010754227635\n",
      "[34] Loss: 0.053008434595540166\n",
      "[35] Loss: 0.05125723006203771\n",
      "[36] Loss: 0.050143885891884565\n",
      "[37] Loss: 0.04872356858104467\n",
      "[38] Loss: 0.04934961907565594\n",
      "[39] Loss: 0.04755241442471743\n",
      "[40] Loss: 0.04468268137425184\n",
      "[41] Loss: 0.04368807533755899\n",
      "[42] Loss: 0.041937023773789404\n",
      "[43] Loss: 0.040948995016515256\n",
      "[44] Loss: 0.04081962862983346\n",
      "[45] Loss: 0.04002517173066735\n",
      "[46] Loss: 0.03833888340741396\n",
      "[47] Loss: 0.038000041525810956\n",
      "[48] Loss: 0.03668950218707323\n",
      "[49] Loss: 0.03562117037363351\n",
      "[50] Loss: 0.03475903524085879\n",
      "[51] Loss: 0.03477208758704364\n",
      "[52] Loss: 0.03344293874688446\n",
      "[53] Loss: 0.03217736552469432\n",
      "[54] Loss: 0.03169385259971023\n",
      "[55] Loss: 0.03174261720851064\n",
      "[56] Loss: 0.03109899777919054\n",
      "[57] Loss: 0.02993378173559904\n",
      "[58] Loss: 0.029140118742361665\n",
      "[59] Loss: 0.02957758167758584\n",
      "[60] Loss: 0.02845899425446987\n",
      "[61] Loss: 0.028281888039782644\n",
      "[62] Loss: 0.027790834801271556\n",
      "[63] Loss: 0.026853001583367585\n",
      "[64] Loss: 0.026036109309643507\n",
      "[65] Loss: 0.025158763490617277\n",
      "[66] Loss: 0.02560787699185312\n",
      "[67] Loss: 0.02519350154325366\n",
      "[68] Loss: 0.024406038410961627\n",
      "[69] Loss: 0.024155575968325137\n",
      "[70] Loss: 0.02398166786879301\n",
      "[71] Loss: 0.022875491855666043\n",
      "[72] Loss: 0.022641376685351135\n",
      "[73] Loss: 0.02268694567028433\n",
      "[74] Loss: 0.02209858768619597\n",
      "[75] Loss: 0.021517478581517934\n",
      "[76] Loss: 0.021625565085560083\n",
      "[77] Loss: 0.02080206316895783\n",
      "[78] Loss: 0.02042240318842232\n",
      "[79] Loss: 0.02035637409426272\n",
      "[80] Loss: 0.019971026806160808\n",
      "[81] Loss: 0.019986104173585772\n",
      "[82] Loss: 0.019178941333666443\n",
      "[83] Loss: 0.01930490802042186\n",
      "[84] Loss: 0.01864318558946252\n",
      "[85] Loss: 0.018762798281386495\n",
      "[86] Loss: 0.017964727547951042\n",
      "[87] Loss: 0.017960525280795992\n",
      "[88] Loss: 0.018116424093022943\n",
      "[89] Loss: 0.017259542597457767\n",
      "[90] Loss: 0.017370709963142873\n",
      "[91] Loss: 0.016959301801398395\n",
      "[92] Loss: 0.016943103238008916\n",
      "[93] Loss: 0.016709880600683392\n",
      "[94] Loss: 0.016338948160409927\n",
      "[95] Loss: 0.016296345344744622\n",
      "[96] Loss: 0.01595562279690057\n",
      "[97] Loss: 0.01587194516323507\n",
      "[98] Loss: 0.015813406044617295\n",
      "[99] Loss: 0.015500731114298106\n",
      "[100] Loss: 0.015480957832187415\n"
     ]
    }
   ],
   "source": [
    "# Train the model\n",
    "model = MLP()\n",
    "criterion = nn.NLLLoss()\n",
    "optimizer = optim.SGD(model.parameters(), lr=0.01)\n",
    "\n",
    "for epoch in range(100):\n",
    "    running_loss = 0.0\n",
    "    for i, data in enumerate(train_loader, 0):\n",
    "        inputs, labels = data\n",
    "        optimizer.zero_grad()\n",
    "        outputs = model(inputs)\n",
    "        loss = criterion(outputs, labels)\n",
    "        loss.backward()\n",
    "        optimizer.step()\n",
    "        running_loss += loss.item()\n",
    "        writer.add_scalar('Loss/train', loss.item(), epoch)\n",
    "        # writer.add_scalar('Loss/test', , epoch)\n",
    "        # writer.add_scalar('Accuracy', , epoch)\n",
    "        # writer.add_scalar('Accuracy/test', , epoch)\n",
    "    print(f\"[{epoch + 1}] Loss: {running_loss / (i + 1)}\")\n",
    "\n",
    "# Evaluate the model on the test data\n",
    "correct = 0\n",
    "total = 0\n",
    "with torch.no_grad():\n",
    "    for data in test_loader:\n",
    "        inputs, labels = data\n",
    "        outputs = model\n"
   ]
  }
 ],
 "metadata": {
  "kernelspec": {
   "display_name": "Python 3",
   "language": "python",
   "name": "python3"
  },
  "language_info": {
   "codemirror_mode": {
    "name": "ipython",
    "version": 3
   },
   "file_extension": ".py",
   "mimetype": "text/x-python",
   "name": "python",
   "nbconvert_exporter": "python",
   "pygments_lexer": "ipython3",
   "version": "3.10.6"
  },
  "orig_nbformat": 4
 },
 "nbformat": 4,
 "nbformat_minor": 2
}
