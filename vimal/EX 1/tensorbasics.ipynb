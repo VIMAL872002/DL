{
 "cells": [
  {
   "cell_type": "code",
   "execution_count": 1,
   "metadata": {},
   "outputs": [
    {
     "name": "stdout",
     "output_type": "stream",
     "text": [
      "Is the GPU available? False\n"
     ]
    }
   ],
   "source": [
    "import torch\n",
    "#check GPU availability\n",
    "gpu_avail = torch.cuda.is_available()\n",
    "print(f\"Is the GPU available? {gpu_avail}\")\n"
   ]
  },
  {
   "cell_type": "code",
   "execution_count": 3,
   "metadata": {},
   "outputs": [
    {
     "name": "stdout",
     "output_type": "stream",
     "text": [
      "Device cpu\n"
     ]
    }
   ],
   "source": [
    "device = torch.device(\"cuda\") if torch.cuda.is_available() else torch.device(\"cpu\")\n",
    "print(\"Device\", device)"
   ]
  },
  {
   "cell_type": "code",
   "execution_count": 4,
   "metadata": {},
   "outputs": [
    {
     "name": "stdout",
     "output_type": "stream",
     "text": [
      "tensor([[0.5436, 0.7102],\n",
      "        [0.1958, 0.8726]])\n",
      "tensor([[0.6239, 1.5753],\n",
      "        [0.6897, 1.5119]])\n"
     ]
    }
   ],
   "source": [
    "#Various ways you can perform tensor addition\n",
    "a = torch.rand(2,2)\n",
    "print(a)\n",
    "b = torch.rand(2,2)\n",
    "c = a + b\n",
    "d = torch.add(a,b)\n",
    "#For in-place addition\n",
    "print(d)"
   ]
  },
  {
   "cell_type": "code",
   "execution_count": 5,
   "metadata": {},
   "outputs": [
    {
     "data": {
      "text/plain": [
       "tensor([[5.5436, 5.7102],\n",
       "        [5.1958, 5.8726]])"
      ]
     },
     "execution_count": 5,
     "metadata": {},
     "output_type": "execute_result"
    }
   ],
   "source": [
    "a.add_(5)"
   ]
  },
  {
   "cell_type": "code",
   "execution_count": 7,
   "metadata": {},
   "outputs": [
    {
     "name": "stdout",
     "output_type": "stream",
     "text": [
      "tensor([[5.5436, 5.7102],\n",
      "        [5.1958, 5.8726]])\n",
      "tensor([[0.4451, 4.9399],\n",
      "        [2.5663, 3.7544]])\n",
      "tensor([[0.4451, 4.9399],\n",
      "        [2.5663, 3.7544]])\n"
     ]
    }
   ],
   "source": [
    "print(a)\n",
    "print(a*b)\n",
    "print(a.mul(b))"
   ]
  },
  {
   "cell_type": "code",
   "execution_count": 9,
   "metadata": {},
   "outputs": [
    {
     "name": "stdout",
     "output_type": "stream",
     "text": [
      "<built-in method size of Tensor object at 0x000001FDAF3E4860>\n"
     ]
    },
    {
     "data": {
      "text/plain": [
       "tensor([[2500.6526, 2534.9524, 2505.5503,  ..., 2538.6516, 2510.5198,\n",
       "         2535.9607],\n",
       "        [2487.9722, 2522.5549, 2501.0579,  ..., 2535.3782, 2518.7620,\n",
       "         2542.9163],\n",
       "        [2479.5938, 2496.6060, 2468.1250,  ..., 2505.9551, 2468.2363,\n",
       "         2507.5857],\n",
       "        ...,\n",
       "        [2461.8872, 2495.2700, 2447.9705,  ..., 2499.3330, 2476.0964,\n",
       "         2493.9070],\n",
       "        [2475.8931, 2502.5691, 2475.8037,  ..., 2515.6184, 2470.7700,\n",
       "         2504.0720],\n",
       "        [2493.0706, 2507.1970, 2495.6414,  ..., 2531.8860, 2500.0298,\n",
       "         2539.8867]])"
      ]
     },
     "execution_count": 9,
     "metadata": {},
     "output_type": "execute_result"
    }
   ],
   "source": [
    "a = torch.rand(10000,10000)\n",
    "b = torch.rand(10000,10000)\n",
    "print(a.size)\n",
    "a.matmul(b)"
   ]
  },
  {
   "cell_type": "code",
   "execution_count": 10,
   "metadata": {},
   "outputs": [],
   "source": [
    "import numpy as np\n",
    "l=[2,3,4,5]\n",
    "a=np.array(l)"
   ]
  },
  {
   "cell_type": "code",
   "execution_count": 11,
   "metadata": {},
   "outputs": [
    {
     "name": "stdout",
     "output_type": "stream",
     "text": [
      "tensor([2, 3, 4, 5], dtype=torch.int32)\n"
     ]
    }
   ],
   "source": [
    "arr=torch.from_numpy(a)\n",
    "print(arr)"
   ]
  },
  {
   "cell_type": "code",
   "execution_count": 12,
   "metadata": {},
   "outputs": [
    {
     "name": "stdout",
     "output_type": "stream",
     "text": [
      "tensor([[0., 0., 0.],\n",
      "        [0., 0., 0.]], dtype=torch.float64)\n"
     ]
    }
   ],
   "source": [
    "f=torch.zeros(2,3,dtype=torch.float64)\n",
    "print(f)"
   ]
  },
  {
   "cell_type": "code",
   "execution_count": 13,
   "metadata": {},
   "outputs": [
    {
     "name": "stdout",
     "output_type": "stream",
     "text": [
      "tensor([ 6.,  8., 10.])\n"
     ]
    }
   ],
   "source": [
    "a=torch.tensor([5,6,7],dtype=torch.float)\n",
    "b=torch.tensor([1,2,3],dtype=torch.float)\n",
    "print(a+b)"
   ]
  },
  {
   "cell_type": "code",
   "execution_count": 14,
   "metadata": {},
   "outputs": [
    {
     "name": "stdout",
     "output_type": "stream",
     "text": [
      "tensor([ 6.,  8., 10.])\n"
     ]
    },
    {
     "name": "stderr",
     "output_type": "stream",
     "text": [
      "C:\\Users\\ponku\\AppData\\Local\\Temp/ipykernel_12308/571966660.py:1: UserWarning: An output with one or more elements was resized since it had shape [2, 2], which does not match the required output shape [3]. This behavior is deprecated, and in a future PyTorch release outputs will not be resized unless they have zero elements. You can explicitly reuse an out tensor t by resizing it, inplace, to zero elements with t.resize_(0). (Triggered internally at C:\\actions-runner\\_work\\pytorch\\pytorch\\builder\\windows\\pytorch\\aten\\src\\ATen\\native\\Resize.cpp:24.)\n",
      "  torch.add(b,a,out=c)\n"
     ]
    }
   ],
   "source": [
    "torch.add(b,a,out=c)\n",
    "print(c)"
   ]
  },
  {
   "cell_type": "code",
   "execution_count": 15,
   "metadata": {},
   "outputs": [
    {
     "data": {
      "text/plain": [
       "tensor(24.)"
      ]
     },
     "execution_count": 15,
     "metadata": {},
     "output_type": "execute_result"
    }
   ],
   "source": [
    "torch.add(a,b).sum()"
   ]
  },
  {
   "cell_type": "code",
   "execution_count": 16,
   "metadata": {},
   "outputs": [
    {
     "data": {
      "text/plain": [
       "tensor([ 8, 15])"
      ]
     },
     "execution_count": 16,
     "metadata": {},
     "output_type": "execute_result"
    }
   ],
   "source": [
    "a=torch.tensor([4,5])\n",
    "b=torch.tensor([2,3])\n",
    "a.mul(b)"
   ]
  },
  {
   "cell_type": "code",
   "execution_count": 17,
   "metadata": {},
   "outputs": [
    {
     "data": {
      "text/plain": [
       "tensor(23)"
      ]
     },
     "execution_count": 17,
     "metadata": {},
     "output_type": "execute_result"
    }
   ],
   "source": [
    "a.dot(b)"
   ]
  },
  {
   "cell_type": "code",
   "execution_count": 18,
   "metadata": {},
   "outputs": [
    {
     "name": "stdout",
     "output_type": "stream",
     "text": [
      "torch.Size([3, 5, 2])\n",
      "tensor([[[ 0.5646, -0.8539],\n",
      "         [ 0.7700,  2.0662],\n",
      "         [ 1.2165,  1.5655],\n",
      "         [ 0.2742,  0.4507],\n",
      "         [ 0.1146,  0.7536]],\n",
      "\n",
      "        [[-0.8311,  0.1493],\n",
      "         [-1.0231, -0.2218],\n",
      "         [ 1.5998, -1.8136],\n",
      "         [-1.2615,  0.2133],\n",
      "         [-0.9863, -0.8098]],\n",
      "\n",
      "        [[-0.5289, -0.6246],\n",
      "         [-1.7633,  1.0251],\n",
      "         [-0.4062,  0.7923],\n",
      "         [-2.1302,  0.6096],\n",
      "         [ 0.3971,  0.5306]]])\n",
      "torch.Size([2, 3, 5])\n",
      "tensor([[[ 0.5646,  0.7700,  1.2165,  0.2742,  0.1146],\n",
      "         [-0.8311, -1.0231,  1.5998, -1.2615, -0.9863],\n",
      "         [-0.5289, -1.7633, -0.4062, -2.1302,  0.3971]],\n",
      "\n",
      "        [[-0.8539,  2.0662,  1.5655,  0.4507,  0.7536],\n",
      "         [ 0.1493, -0.2218, -1.8136,  0.2133, -0.8098],\n",
      "         [-0.6246,  1.0251,  0.7923,  0.6096,  0.5306]]])\n"
     ]
    }
   ],
   "source": [
    "import torch\n",
    "  \n",
    "# creating a tensor with random \n",
    "# values of dimension 3 X 5 X 2\n",
    "input_var = torch.randn(3, 5, 2)\n",
    "  \n",
    "# print size\n",
    "print(input_var.size())\n",
    "  \n",
    "print(input_var)\n",
    "  \n",
    "# dimensions permuted\n",
    "input_var = input_var.permute(2, 0, 1)\n",
    "  \n",
    "# print size\n",
    "print(input_var.size())\n",
    "  \n",
    "print(input_var)"
   ]
  },
  {
   "cell_type": "code",
   "execution_count": 28,
   "metadata": {},
   "outputs": [
    {
     "name": "stdout",
     "output_type": "stream",
     "text": [
      "a:** tensor([5., 9.])\n",
      "b:** tensor([6., 9.])\n",
      "a:** tensor([5., 9.])\n",
      "b:** tensor([ 7., 10.])\n",
      "a:** tensor([2., 2.])\n",
      "b:** tensor([6., 9.])\n",
      "a:** tensor([2., 2.])\n",
      "b:** tensor([ 7., 10.])\n",
      "tensor([[111., 125.],\n",
      "        [ 30.,  34.]])\n",
      "tensor([[111., 125.],\n",
      "        [ 30.,  34.]])\n",
      "tensor([[30., 63.],\n",
      "        [18., 20.]])\n",
      "tensor([[ 1.4167, -5.2083],\n",
      "        [-1.2500,  4.6250]])\n"
     ]
    }
   ],
   "source": [
    "a1=torch.tensor([[5,9],[2,2]],dtype=torch.float32)\n",
    "a2=torch.tensor([[6,7],[9,10]],dtype=torch.float32)\n",
    "C=torch.zeros((2,2),dtype=torch.float32)\n",
    "for i in range(2):\n",
    "    v=0\n",
    "    for j in range(2):\n",
    "        v=torch.dot(a1[i,:],a2[:,j])\n",
    "        print(\"a:**\",a1[i,:])\n",
    "        print(\"b:**\",a2[:,j])\n",
    "        C[i][j]=v\n",
    "print(C)\n",
    "print(torch.matmul(a1,a2))\n",
    "print(a1.mul(a2))\n",
    "print(torch.inverse(C))"
   ]
  }
 ],
 "metadata": {
  "kernelspec": {
   "display_name": "base",
   "language": "python",
   "name": "python3"
  },
  "language_info": {
   "codemirror_mode": {
    "name": "ipython",
    "version": 3
   },
   "file_extension": ".py",
   "mimetype": "text/x-python",
   "name": "python",
   "nbconvert_exporter": "python",
   "pygments_lexer": "ipython3",
   "version": "3.9.7 (default, Sep 16 2021, 16:59:28) [MSC v.1916 64 bit (AMD64)]"
  },
  "orig_nbformat": 4,
  "vscode": {
   "interpreter": {
    "hash": "cd3822b8771159e12ad533e9b9e180a352f65546fe5f5bf6c3921988514f69c7"
   }
  }
 },
 "nbformat": 4,
 "nbformat_minor": 2
}
