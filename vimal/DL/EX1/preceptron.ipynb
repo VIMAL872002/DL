{
 "cells": [
  {
   "cell_type": "code",
   "execution_count": null,
   "metadata": {},
   "outputs": [],
   "source": [
    "import torch\n",
    "import numpy as np\n",
    "\n",
    "def perceptron(inputs, weights):\n",
    "    weighted_sum = torch.dot(inputs, weights)\n",
    "    prediction = torch.where(weighted_sum > 0, torch.tensor(1.0), torch.tensor(-1.0))\n",
    "    return prediction\n",
    "\n",
    "def train_perceptron(inputs, targets, weights, learning_rate, epochs):\n",
    "    for epoch in range(epochs):\n",
    "        for i, input_ in enumerate(inputs):\n",
    "            prediction = perceptron(input_, weights)\n",
    "            error = targets[i] - prediction\n",
    "            weights += learning_rate * error * input_\n",
    "    return weights\n",
    "def calculate_accuracy(inputs, targets, weights):\n",
    "    correct = 0\n",
    "    total = 0\n",
    "    with torch.no_grad():\n",
    "        for i, input_ in enumerate(inputs):\n",
    "            prediction = perceptron(input_, weights)\n",
    "            if prediction == targets[i]:\n",
    "                correct += 1\n",
    "            total += 1\n",
    "    return correct / total\n",
    "\n",
    "inputs = torch.tensor([[-1, -1], [-1, 1], [1, -1], [1, 1]],dtype=torch.float32)\n",
    "targets = torch.tensor([-1, -1, -1, 1],dtype=torch.float32)\n",
    "weights = torch.zeros(2)\n",
    "learning_rate = 0.1\n",
    "epochs = 20\n",
    "\n",
    "trained_weights = train_perceptron(inputs, targets, weights, learning_rate, epochs)\n",
    "print(\"Trained Weights: \", trained_weights)\n",
    "accuracy = calculate_accuracy(inputs, targets, trained_weights)\n",
    "print(\"Accuracy: \", accuracy)"
   ]
  }
 ],
 "metadata": {
  "kernelspec": {
   "display_name": "base",
   "language": "python",
   "name": "python3"
  },
  "language_info": {
   "codemirror_mode": {
    "name": "ipython",
    "version": 3
   },
   "file_extension": ".py",
   "mimetype": "text/x-python",
   "name": "python",
   "nbconvert_exporter": "python",
   "pygments_lexer": "ipython3",
   "version": "3.9.13"
  },
  "orig_nbformat": 4,
  "vscode": {
   "interpreter": {
    "hash": "ad2bdc8ecc057115af97d19610ffacc2b4e99fae6737bb82f5d7fb13d2f2c186"
   }
  }
 },
 "nbformat": 4,
 "nbformat_minor": 2
}
